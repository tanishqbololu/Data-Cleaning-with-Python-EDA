{
 "cells": [
  {
   "cell_type": "markdown",
   "id": "bc68953d-4b27-4a15-abd3-46c79d0b80b3",
   "metadata": {},
   "source": [
    "## Raw data to clean data conversion using python EDA"
   ]
  },
  {
   "cell_type": "code",
   "execution_count": 70,
   "id": "d9c9fbee-6c5f-42d6-9b73-d90fa4cbbee7",
   "metadata": {},
   "outputs": [],
   "source": [
    "import pandas as pd"
   ]
  },
  {
   "cell_type": "code",
   "execution_count": 71,
   "id": "2b3d07e7-d6cc-49b9-badc-b6dc266ad822",
   "metadata": {},
   "outputs": [],
   "source": [
    "emp = pd.read_excel(r'C:\\Users\\TANISHQ\\Naresh_IT_Everyday_Personal\\Rawdata.xlsx')"
   ]
  },
  {
   "cell_type": "code",
   "execution_count": 72,
   "id": "ab37e9c9-fd11-4da0-a47f-3b529afeadb8",
   "metadata": {},
   "outputs": [
    {
     "data": {
      "text/html": [
       "<div>\n",
       "<style scoped>\n",
       "    .dataframe tbody tr th:only-of-type {\n",
       "        vertical-align: middle;\n",
       "    }\n",
       "\n",
       "    .dataframe tbody tr th {\n",
       "        vertical-align: top;\n",
       "    }\n",
       "\n",
       "    .dataframe thead th {\n",
       "        text-align: right;\n",
       "    }\n",
       "</style>\n",
       "<table border=\"1\" class=\"dataframe\">\n",
       "  <thead>\n",
       "    <tr style=\"text-align: right;\">\n",
       "      <th></th>\n",
       "      <th>Name</th>\n",
       "      <th>Domain</th>\n",
       "      <th>Age</th>\n",
       "      <th>Location</th>\n",
       "      <th>Salary</th>\n",
       "      <th>Exp</th>\n",
       "    </tr>\n",
       "  </thead>\n",
       "  <tbody>\n",
       "    <tr>\n",
       "      <th>0</th>\n",
       "      <td>Mike</td>\n",
       "      <td>Datascience#$</td>\n",
       "      <td>34 years</td>\n",
       "      <td>Mumbai</td>\n",
       "      <td>5^00#0</td>\n",
       "      <td>2+</td>\n",
       "    </tr>\n",
       "    <tr>\n",
       "      <th>1</th>\n",
       "      <td>Teddy^</td>\n",
       "      <td>Testing</td>\n",
       "      <td>45' yr</td>\n",
       "      <td>Bangalore</td>\n",
       "      <td>10%%000</td>\n",
       "      <td>&lt;3</td>\n",
       "    </tr>\n",
       "    <tr>\n",
       "      <th>2</th>\n",
       "      <td>Uma#r</td>\n",
       "      <td>Dataanalyst^^#</td>\n",
       "      <td>NaN</td>\n",
       "      <td>NaN</td>\n",
       "      <td>1$5%000</td>\n",
       "      <td>4&gt; yrs</td>\n",
       "    </tr>\n",
       "    <tr>\n",
       "      <th>3</th>\n",
       "      <td>Jane</td>\n",
       "      <td>Ana^^lytics</td>\n",
       "      <td>NaN</td>\n",
       "      <td>Hyderbad</td>\n",
       "      <td>2000^0</td>\n",
       "      <td>NaN</td>\n",
       "    </tr>\n",
       "    <tr>\n",
       "      <th>4</th>\n",
       "      <td>Uttam*</td>\n",
       "      <td>Statistics</td>\n",
       "      <td>67-yr</td>\n",
       "      <td>NaN</td>\n",
       "      <td>30000-</td>\n",
       "      <td>5+ year</td>\n",
       "    </tr>\n",
       "    <tr>\n",
       "      <th>5</th>\n",
       "      <td>Kim</td>\n",
       "      <td>NLP</td>\n",
       "      <td>55yr</td>\n",
       "      <td>Delhi</td>\n",
       "      <td>6000^$0</td>\n",
       "      <td>10+</td>\n",
       "    </tr>\n",
       "  </tbody>\n",
       "</table>\n",
       "</div>"
      ],
      "text/plain": [
       "     Name          Domain       Age   Location   Salary      Exp\n",
       "0    Mike   Datascience#$  34 years     Mumbai   5^00#0       2+\n",
       "1  Teddy^         Testing    45' yr  Bangalore  10%%000       <3\n",
       "2   Uma#r  Dataanalyst^^#       NaN        NaN  1$5%000   4> yrs\n",
       "3    Jane     Ana^^lytics       NaN   Hyderbad   2000^0      NaN\n",
       "4  Uttam*      Statistics     67-yr        NaN   30000-  5+ year\n",
       "5     Kim             NLP      55yr      Delhi  6000^$0      10+"
      ]
     },
     "execution_count": 72,
     "metadata": {},
     "output_type": "execute_result"
    }
   ],
   "source": [
    "emp # We have to clean this dataset"
   ]
  },
  {
   "cell_type": "code",
   "execution_count": 73,
   "id": "fd634bff-df6b-4430-a90b-a203b954c23b",
   "metadata": {},
   "outputs": [
    {
     "data": {
      "text/plain": [
       "Index(['Name', 'Domain', 'Age', 'Location', 'Salary', 'Exp'], dtype='object')"
      ]
     },
     "execution_count": 73,
     "metadata": {},
     "output_type": "execute_result"
    }
   ],
   "source": [
    "emp.columns"
   ]
  },
  {
   "cell_type": "code",
   "execution_count": 74,
   "id": "9d0d89f2-bc1d-4915-bb64-08fa2ac8f69d",
   "metadata": {},
   "outputs": [
    {
     "data": {
      "text/plain": [
       "(6, 6)"
      ]
     },
     "execution_count": 74,
     "metadata": {},
     "output_type": "execute_result"
    }
   ],
   "source": [
    "emp.shape"
   ]
  },
  {
   "cell_type": "code",
   "execution_count": 75,
   "id": "45fe8b49-e5d1-4b00-b1a8-49b17b252c4b",
   "metadata": {},
   "outputs": [
    {
     "data": {
      "text/html": [
       "<div>\n",
       "<style scoped>\n",
       "    .dataframe tbody tr th:only-of-type {\n",
       "        vertical-align: middle;\n",
       "    }\n",
       "\n",
       "    .dataframe tbody tr th {\n",
       "        vertical-align: top;\n",
       "    }\n",
       "\n",
       "    .dataframe thead th {\n",
       "        text-align: right;\n",
       "    }\n",
       "</style>\n",
       "<table border=\"1\" class=\"dataframe\">\n",
       "  <thead>\n",
       "    <tr style=\"text-align: right;\">\n",
       "      <th></th>\n",
       "      <th>Name</th>\n",
       "      <th>Domain</th>\n",
       "      <th>Age</th>\n",
       "      <th>Location</th>\n",
       "      <th>Salary</th>\n",
       "      <th>Exp</th>\n",
       "    </tr>\n",
       "  </thead>\n",
       "  <tbody>\n",
       "    <tr>\n",
       "      <th>0</th>\n",
       "      <td>Mike</td>\n",
       "      <td>Datascience#$</td>\n",
       "      <td>34 years</td>\n",
       "      <td>Mumbai</td>\n",
       "      <td>5^00#0</td>\n",
       "      <td>2+</td>\n",
       "    </tr>\n",
       "    <tr>\n",
       "      <th>1</th>\n",
       "      <td>Teddy^</td>\n",
       "      <td>Testing</td>\n",
       "      <td>45' yr</td>\n",
       "      <td>Bangalore</td>\n",
       "      <td>10%%000</td>\n",
       "      <td>&lt;3</td>\n",
       "    </tr>\n",
       "    <tr>\n",
       "      <th>2</th>\n",
       "      <td>Uma#r</td>\n",
       "      <td>Dataanalyst^^#</td>\n",
       "      <td>NaN</td>\n",
       "      <td>NaN</td>\n",
       "      <td>1$5%000</td>\n",
       "      <td>4&gt; yrs</td>\n",
       "    </tr>\n",
       "    <tr>\n",
       "      <th>3</th>\n",
       "      <td>Jane</td>\n",
       "      <td>Ana^^lytics</td>\n",
       "      <td>NaN</td>\n",
       "      <td>Hyderbad</td>\n",
       "      <td>2000^0</td>\n",
       "      <td>NaN</td>\n",
       "    </tr>\n",
       "    <tr>\n",
       "      <th>4</th>\n",
       "      <td>Uttam*</td>\n",
       "      <td>Statistics</td>\n",
       "      <td>67-yr</td>\n",
       "      <td>NaN</td>\n",
       "      <td>30000-</td>\n",
       "      <td>5+ year</td>\n",
       "    </tr>\n",
       "  </tbody>\n",
       "</table>\n",
       "</div>"
      ],
      "text/plain": [
       "     Name          Domain       Age   Location   Salary      Exp\n",
       "0    Mike   Datascience#$  34 years     Mumbai   5^00#0       2+\n",
       "1  Teddy^         Testing    45' yr  Bangalore  10%%000       <3\n",
       "2   Uma#r  Dataanalyst^^#       NaN        NaN  1$5%000   4> yrs\n",
       "3    Jane     Ana^^lytics       NaN   Hyderbad   2000^0      NaN\n",
       "4  Uttam*      Statistics     67-yr        NaN   30000-  5+ year"
      ]
     },
     "execution_count": 75,
     "metadata": {},
     "output_type": "execute_result"
    }
   ],
   "source": [
    "emp.head()"
   ]
  },
  {
   "cell_type": "code",
   "execution_count": 76,
   "id": "657bdbb1-d585-4f09-95a2-2df99b68755a",
   "metadata": {},
   "outputs": [
    {
     "data": {
      "text/html": [
       "<div>\n",
       "<style scoped>\n",
       "    .dataframe tbody tr th:only-of-type {\n",
       "        vertical-align: middle;\n",
       "    }\n",
       "\n",
       "    .dataframe tbody tr th {\n",
       "        vertical-align: top;\n",
       "    }\n",
       "\n",
       "    .dataframe thead th {\n",
       "        text-align: right;\n",
       "    }\n",
       "</style>\n",
       "<table border=\"1\" class=\"dataframe\">\n",
       "  <thead>\n",
       "    <tr style=\"text-align: right;\">\n",
       "      <th></th>\n",
       "      <th>Name</th>\n",
       "      <th>Domain</th>\n",
       "      <th>Age</th>\n",
       "      <th>Location</th>\n",
       "      <th>Salary</th>\n",
       "      <th>Exp</th>\n",
       "    </tr>\n",
       "  </thead>\n",
       "  <tbody>\n",
       "    <tr>\n",
       "      <th>1</th>\n",
       "      <td>Teddy^</td>\n",
       "      <td>Testing</td>\n",
       "      <td>45' yr</td>\n",
       "      <td>Bangalore</td>\n",
       "      <td>10%%000</td>\n",
       "      <td>&lt;3</td>\n",
       "    </tr>\n",
       "    <tr>\n",
       "      <th>2</th>\n",
       "      <td>Uma#r</td>\n",
       "      <td>Dataanalyst^^#</td>\n",
       "      <td>NaN</td>\n",
       "      <td>NaN</td>\n",
       "      <td>1$5%000</td>\n",
       "      <td>4&gt; yrs</td>\n",
       "    </tr>\n",
       "    <tr>\n",
       "      <th>3</th>\n",
       "      <td>Jane</td>\n",
       "      <td>Ana^^lytics</td>\n",
       "      <td>NaN</td>\n",
       "      <td>Hyderbad</td>\n",
       "      <td>2000^0</td>\n",
       "      <td>NaN</td>\n",
       "    </tr>\n",
       "    <tr>\n",
       "      <th>4</th>\n",
       "      <td>Uttam*</td>\n",
       "      <td>Statistics</td>\n",
       "      <td>67-yr</td>\n",
       "      <td>NaN</td>\n",
       "      <td>30000-</td>\n",
       "      <td>5+ year</td>\n",
       "    </tr>\n",
       "    <tr>\n",
       "      <th>5</th>\n",
       "      <td>Kim</td>\n",
       "      <td>NLP</td>\n",
       "      <td>55yr</td>\n",
       "      <td>Delhi</td>\n",
       "      <td>6000^$0</td>\n",
       "      <td>10+</td>\n",
       "    </tr>\n",
       "  </tbody>\n",
       "</table>\n",
       "</div>"
      ],
      "text/plain": [
       "     Name          Domain     Age   Location   Salary      Exp\n",
       "1  Teddy^         Testing  45' yr  Bangalore  10%%000       <3\n",
       "2   Uma#r  Dataanalyst^^#     NaN        NaN  1$5%000   4> yrs\n",
       "3    Jane     Ana^^lytics     NaN   Hyderbad   2000^0      NaN\n",
       "4  Uttam*      Statistics   67-yr        NaN   30000-  5+ year\n",
       "5     Kim             NLP    55yr      Delhi  6000^$0      10+"
      ]
     },
     "execution_count": 76,
     "metadata": {},
     "output_type": "execute_result"
    }
   ],
   "source": [
    "emp.tail()"
   ]
  },
  {
   "cell_type": "code",
   "execution_count": 77,
   "id": "d9fe86e4-b13f-4a69-b75d-2c33f2ad53e7",
   "metadata": {},
   "outputs": [
    {
     "name": "stdout",
     "output_type": "stream",
     "text": [
      "<class 'pandas.core.frame.DataFrame'>\n",
      "RangeIndex: 6 entries, 0 to 5\n",
      "Data columns (total 6 columns):\n",
      " #   Column    Non-Null Count  Dtype \n",
      "---  ------    --------------  ----- \n",
      " 0   Name      6 non-null      object\n",
      " 1   Domain    6 non-null      object\n",
      " 2   Age       4 non-null      object\n",
      " 3   Location  4 non-null      object\n",
      " 4   Salary    6 non-null      object\n",
      " 5   Exp       5 non-null      object\n",
      "dtypes: object(6)\n",
      "memory usage: 420.0+ bytes\n"
     ]
    }
   ],
   "source": [
    "emp.info()"
   ]
  },
  {
   "cell_type": "code",
   "execution_count": 78,
   "id": "9743347a-b373-477b-b24b-a536a2a14176",
   "metadata": {},
   "outputs": [
    {
     "data": {
      "text/html": [
       "<div>\n",
       "<style scoped>\n",
       "    .dataframe tbody tr th:only-of-type {\n",
       "        vertical-align: middle;\n",
       "    }\n",
       "\n",
       "    .dataframe tbody tr th {\n",
       "        vertical-align: top;\n",
       "    }\n",
       "\n",
       "    .dataframe thead th {\n",
       "        text-align: right;\n",
       "    }\n",
       "</style>\n",
       "<table border=\"1\" class=\"dataframe\">\n",
       "  <thead>\n",
       "    <tr style=\"text-align: right;\">\n",
       "      <th></th>\n",
       "      <th>Name</th>\n",
       "      <th>Domain</th>\n",
       "      <th>Age</th>\n",
       "      <th>Location</th>\n",
       "      <th>Salary</th>\n",
       "      <th>Exp</th>\n",
       "    </tr>\n",
       "  </thead>\n",
       "  <tbody>\n",
       "    <tr>\n",
       "      <th>0</th>\n",
       "      <td>Mike</td>\n",
       "      <td>Datascience#$</td>\n",
       "      <td>34 years</td>\n",
       "      <td>Mumbai</td>\n",
       "      <td>5^00#0</td>\n",
       "      <td>2+</td>\n",
       "    </tr>\n",
       "    <tr>\n",
       "      <th>1</th>\n",
       "      <td>Teddy^</td>\n",
       "      <td>Testing</td>\n",
       "      <td>45' yr</td>\n",
       "      <td>Bangalore</td>\n",
       "      <td>10%%000</td>\n",
       "      <td>&lt;3</td>\n",
       "    </tr>\n",
       "    <tr>\n",
       "      <th>2</th>\n",
       "      <td>Uma#r</td>\n",
       "      <td>Dataanalyst^^#</td>\n",
       "      <td>NaN</td>\n",
       "      <td>NaN</td>\n",
       "      <td>1$5%000</td>\n",
       "      <td>4&gt; yrs</td>\n",
       "    </tr>\n",
       "    <tr>\n",
       "      <th>3</th>\n",
       "      <td>Jane</td>\n",
       "      <td>Ana^^lytics</td>\n",
       "      <td>NaN</td>\n",
       "      <td>Hyderbad</td>\n",
       "      <td>2000^0</td>\n",
       "      <td>NaN</td>\n",
       "    </tr>\n",
       "    <tr>\n",
       "      <th>4</th>\n",
       "      <td>Uttam*</td>\n",
       "      <td>Statistics</td>\n",
       "      <td>67-yr</td>\n",
       "      <td>NaN</td>\n",
       "      <td>30000-</td>\n",
       "      <td>5+ year</td>\n",
       "    </tr>\n",
       "    <tr>\n",
       "      <th>5</th>\n",
       "      <td>Kim</td>\n",
       "      <td>NLP</td>\n",
       "      <td>55yr</td>\n",
       "      <td>Delhi</td>\n",
       "      <td>6000^$0</td>\n",
       "      <td>10+</td>\n",
       "    </tr>\n",
       "  </tbody>\n",
       "</table>\n",
       "</div>"
      ],
      "text/plain": [
       "     Name          Domain       Age   Location   Salary      Exp\n",
       "0    Mike   Datascience#$  34 years     Mumbai   5^00#0       2+\n",
       "1  Teddy^         Testing    45' yr  Bangalore  10%%000       <3\n",
       "2   Uma#r  Dataanalyst^^#       NaN        NaN  1$5%000   4> yrs\n",
       "3    Jane     Ana^^lytics       NaN   Hyderbad   2000^0      NaN\n",
       "4  Uttam*      Statistics     67-yr        NaN   30000-  5+ year\n",
       "5     Kim             NLP      55yr      Delhi  6000^$0      10+"
      ]
     },
     "execution_count": 78,
     "metadata": {},
     "output_type": "execute_result"
    }
   ],
   "source": [
    "emp"
   ]
  },
  {
   "cell_type": "code",
   "execution_count": 79,
   "id": "ec8e9613-91db-4fb3-a1f6-183967592b6c",
   "metadata": {},
   "outputs": [
    {
     "data": {
      "text/plain": [
       "Name        0\n",
       "Domain      0\n",
       "Age         2\n",
       "Location    2\n",
       "Salary      0\n",
       "Exp         1\n",
       "dtype: int64"
      ]
     },
     "execution_count": 79,
     "metadata": {},
     "output_type": "execute_result"
    }
   ],
   "source": [
    "emp.isnull().sum()    # you can also use isna() instead of isnull()\n",
    "# here we can see number of empty places in each column(feature,attribute,variable) of dataset"
   ]
  },
  {
   "cell_type": "markdown",
   "id": "e0e04746-cfa4-44e1-9389-c80c30515c7f",
   "metadata": {},
   "source": [
    "### Now lets clean each column"
   ]
  },
  {
   "cell_type": "code",
   "execution_count": 81,
   "id": "76aaefc4-464e-4b2b-868d-e1f297706940",
   "metadata": {},
   "outputs": [
    {
     "data": {
      "text/plain": [
       "0      Mike\n",
       "1    Teddy^\n",
       "2     Uma#r\n",
       "3      Jane\n",
       "4    Uttam*\n",
       "5       Kim\n",
       "Name: Name, dtype: object"
      ]
     },
     "execution_count": 81,
     "metadata": {},
     "output_type": "execute_result"
    }
   ],
   "source": [
    "emp['Name']"
   ]
  },
  {
   "cell_type": "code",
   "execution_count": 82,
   "id": "38d144c3-41c5-4c2b-bd7d-7b86a2089e5f",
   "metadata": {},
   "outputs": [],
   "source": [
    "emp['Name'] = emp['Name'].str.replace(r'\\W','',regex=True)"
   ]
  },
  {
   "cell_type": "markdown",
   "id": "9040ee44-8b06-45b6-90c9-39c6ce592705",
   "metadata": {},
   "source": [
    "Explanation:\n",
    "\n",
    "- r'\\W' matches any non-word character (equivalent to [^a-zA-Z0-9_]).\n",
    "\n",
    "- '' to remove extra space\n",
    "\n",
    "- regex=True specifies that you are using a regular expression."
   ]
  },
  {
   "cell_type": "code",
   "execution_count": 99,
   "id": "205a41d9-c874-40f7-9112-2d4febf92302",
   "metadata": {},
   "outputs": [
    {
     "data": {
      "text/plain": [
       "0     Mike\n",
       "1    Teddy\n",
       "2     Umar\n",
       "3     Jane\n",
       "4    Uttam\n",
       "5      Kim\n",
       "Name: Name, dtype: object"
      ]
     },
     "execution_count": 99,
     "metadata": {},
     "output_type": "execute_result"
    }
   ],
   "source": [
    "emp['Name']"
   ]
  },
  {
   "cell_type": "code",
   "execution_count": 104,
   "id": "047702ec-c26c-4ca6-8d55-28a5dfc9133a",
   "metadata": {},
   "outputs": [
    {
     "data": {
      "text/plain": [
       "0     Datascience#$\n",
       "1           Testing\n",
       "2    Dataanalyst^^#\n",
       "3       Ana^^lytics\n",
       "4        Statistics\n",
       "5               NLP\n",
       "Name: Domain, dtype: object"
      ]
     },
     "execution_count": 104,
     "metadata": {},
     "output_type": "execute_result"
    }
   ],
   "source": [
    "emp['Domain']"
   ]
  },
  {
   "cell_type": "code",
   "execution_count": 106,
   "id": "935d8691-29b3-42a7-8b58-3b9cb961368c",
   "metadata": {},
   "outputs": [
    {
     "data": {
      "text/plain": [
       "0    Datascience\n",
       "1        Testing\n",
       "2    Dataanalyst\n",
       "3      Analytics\n",
       "4     Statistics\n",
       "5            NLP\n",
       "Name: Domain, dtype: object"
      ]
     },
     "execution_count": 106,
     "metadata": {},
     "output_type": "execute_result"
    }
   ],
   "source": [
    "emp['Domain'] = emp['Domain'].str.replace(r'\\W','',regex=True)\n",
    "emp['Domain']"
   ]
  },
  {
   "cell_type": "code",
   "execution_count": 108,
   "id": "0e8f2392-32d4-4e53-be84-9ae1201bf585",
   "metadata": {},
   "outputs": [
    {
     "data": {
      "text/plain": [
       "0    34 years\n",
       "1      45' yr\n",
       "2         NaN\n",
       "3         NaN\n",
       "4       67-yr\n",
       "5        55yr\n",
       "Name: Age, dtype: object"
      ]
     },
     "execution_count": 108,
     "metadata": {},
     "output_type": "execute_result"
    }
   ],
   "source": [
    "emp['Age']"
   ]
  },
  {
   "cell_type": "code",
   "execution_count": 110,
   "id": "1718373f-4c9b-4edb-9be0-5829127ae102",
   "metadata": {},
   "outputs": [
    {
     "data": {
      "text/plain": [
       "0    34years\n",
       "1       45yr\n",
       "2        NaN\n",
       "3        NaN\n",
       "4       67yr\n",
       "5       55yr\n",
       "Name: Age, dtype: object"
      ]
     },
     "execution_count": 110,
     "metadata": {},
     "output_type": "execute_result"
    }
   ],
   "source": [
    "emp['Age'] = emp['Age'].str.replace(r'\\W','',regex=True)\n",
    "emp['Age']"
   ]
  },
  {
   "cell_type": "markdown",
   "id": "9e5540c3-8f3e-4fdd-9f60-8f0b9d372e69",
   "metadata": {},
   "source": [
    "#### For Age you just need numerical data so lets just extract numerical data"
   ]
  },
  {
   "cell_type": "code",
   "execution_count": 118,
   "id": "80073e9c-43dc-49d5-b787-662ddbed2a58",
   "metadata": {},
   "outputs": [],
   "source": [
    "emp['Age'] = emp['Age'].str.extract('(\\d+)')"
   ]
  },
  {
   "cell_type": "markdown",
   "id": "390f3da1-05d2-4bfc-812f-6cdc4ad03ebe",
   "metadata": {},
   "source": [
    "Explanation:\n",
    "\n",
    "- str.extract('(\\d+)') uses a regular expression to find and extract one or more digits.\n",
    "\n",
    "- (\\d+) captures one or more digits as a group."
   ]
  },
  {
   "cell_type": "code",
   "execution_count": 120,
   "id": "0748f4b2-14f1-4456-a67b-563a78eb06d5",
   "metadata": {},
   "outputs": [
    {
     "data": {
      "text/plain": [
       "0     34\n",
       "1     45\n",
       "2    NaN\n",
       "3    NaN\n",
       "4     67\n",
       "5     55\n",
       "Name: Age, dtype: object"
      ]
     },
     "execution_count": 120,
     "metadata": {},
     "output_type": "execute_result"
    }
   ],
   "source": [
    "emp['Age']"
   ]
  },
  {
   "cell_type": "code",
   "execution_count": 124,
   "id": "51fb2a03-180b-4c97-a9d9-ba450fd82531",
   "metadata": {},
   "outputs": [
    {
     "data": {
      "text/plain": [
       "0       Mumbai\n",
       "1    Bangalore\n",
       "2          NaN\n",
       "3     Hyderbad\n",
       "4          NaN\n",
       "5        Delhi\n",
       "Name: Location, dtype: object"
      ]
     },
     "execution_count": 124,
     "metadata": {},
     "output_type": "execute_result"
    }
   ],
   "source": [
    "emp['Location'] = emp['Location'].str.replace(r'\\W','',regex=True)\n",
    "emp['Location']"
   ]
  },
  {
   "cell_type": "code",
   "execution_count": 126,
   "id": "0c4afb83-529a-48dc-b41a-c78418f2f1a3",
   "metadata": {},
   "outputs": [
    {
     "data": {
      "text/plain": [
       "0     5^00#0\n",
       "1    10%%000\n",
       "2    1$5%000\n",
       "3     2000^0\n",
       "4     30000-\n",
       "5    6000^$0\n",
       "Name: Salary, dtype: object"
      ]
     },
     "execution_count": 126,
     "metadata": {},
     "output_type": "execute_result"
    }
   ],
   "source": [
    "emp['Salary']"
   ]
  },
  {
   "cell_type": "code",
   "execution_count": 128,
   "id": "55417f9e-2af5-4244-be6a-ea1a475e03b7",
   "metadata": {},
   "outputs": [
    {
     "data": {
      "text/plain": [
       "0     5000\n",
       "1    10000\n",
       "2    15000\n",
       "3    20000\n",
       "4    30000\n",
       "5    60000\n",
       "Name: Salary, dtype: object"
      ]
     },
     "execution_count": 128,
     "metadata": {},
     "output_type": "execute_result"
    }
   ],
   "source": [
    "emp['Salary'] = emp['Salary'].str.replace(r'\\W','',regex=True)\n",
    "emp['Salary']"
   ]
  },
  {
   "cell_type": "code",
   "execution_count": 130,
   "id": "66c5d6cb-583e-416c-ada0-991f8fe9eb16",
   "metadata": {},
   "outputs": [
    {
     "data": {
      "text/plain": [
       "0         2+\n",
       "1         <3\n",
       "2     4> yrs\n",
       "3        NaN\n",
       "4    5+ year\n",
       "5        10+\n",
       "Name: Exp, dtype: object"
      ]
     },
     "execution_count": 130,
     "metadata": {},
     "output_type": "execute_result"
    }
   ],
   "source": [
    "emp['Exp']"
   ]
  },
  {
   "cell_type": "code",
   "execution_count": 132,
   "id": "5c0bfc47-a52a-447a-ac25-bf9309382f21",
   "metadata": {},
   "outputs": [
    {
     "data": {
      "text/plain": [
       "0        2\n",
       "1        3\n",
       "2     4yrs\n",
       "3      NaN\n",
       "4    5year\n",
       "5       10\n",
       "Name: Exp, dtype: object"
      ]
     },
     "execution_count": 132,
     "metadata": {},
     "output_type": "execute_result"
    }
   ],
   "source": [
    "emp['Exp'] = emp['Exp'].str.replace(r'\\W','',regex=True)\n",
    "emp['Exp']"
   ]
  },
  {
   "cell_type": "code",
   "execution_count": 136,
   "id": "805873bb-4df2-42da-8ebc-aca8894c2338",
   "metadata": {},
   "outputs": [
    {
     "data": {
      "text/plain": [
       "0      2\n",
       "1      3\n",
       "2      4\n",
       "3    NaN\n",
       "4      5\n",
       "5     10\n",
       "Name: Exp, dtype: object"
      ]
     },
     "execution_count": 136,
     "metadata": {},
     "output_type": "execute_result"
    }
   ],
   "source": [
    "emp['Exp'] = emp['Exp'].str.extract('(\\d+)')\n",
    "emp['Exp']"
   ]
  },
  {
   "cell_type": "markdown",
   "id": "e8dd76c2-9a27-4784-b67f-5e9d2e516501",
   "metadata": {},
   "source": [
    "### Till now we had raw data, So we used regex to clean the data and removed all noise characters from the dataset "
   ]
  },
  {
   "cell_type": "code",
   "execution_count": 140,
   "id": "fb569ee3-1c4f-4ab4-9f85-e5a50752f995",
   "metadata": {},
   "outputs": [],
   "source": [
    "clean_data = emp.copy()"
   ]
  },
  {
   "cell_type": "code",
   "execution_count": 142,
   "id": "4b015fdb-3bc6-4c98-af60-d6fa1fe19bc8",
   "metadata": {},
   "outputs": [
    {
     "data": {
      "text/html": [
       "<div>\n",
       "<style scoped>\n",
       "    .dataframe tbody tr th:only-of-type {\n",
       "        vertical-align: middle;\n",
       "    }\n",
       "\n",
       "    .dataframe tbody tr th {\n",
       "        vertical-align: top;\n",
       "    }\n",
       "\n",
       "    .dataframe thead th {\n",
       "        text-align: right;\n",
       "    }\n",
       "</style>\n",
       "<table border=\"1\" class=\"dataframe\">\n",
       "  <thead>\n",
       "    <tr style=\"text-align: right;\">\n",
       "      <th></th>\n",
       "      <th>Name</th>\n",
       "      <th>Domain</th>\n",
       "      <th>Age</th>\n",
       "      <th>Location</th>\n",
       "      <th>Salary</th>\n",
       "      <th>Exp</th>\n",
       "    </tr>\n",
       "  </thead>\n",
       "  <tbody>\n",
       "    <tr>\n",
       "      <th>0</th>\n",
       "      <td>Mike</td>\n",
       "      <td>Datascience</td>\n",
       "      <td>34</td>\n",
       "      <td>Mumbai</td>\n",
       "      <td>5000</td>\n",
       "      <td>2</td>\n",
       "    </tr>\n",
       "    <tr>\n",
       "      <th>1</th>\n",
       "      <td>Teddy</td>\n",
       "      <td>Testing</td>\n",
       "      <td>45</td>\n",
       "      <td>Bangalore</td>\n",
       "      <td>10000</td>\n",
       "      <td>3</td>\n",
       "    </tr>\n",
       "    <tr>\n",
       "      <th>2</th>\n",
       "      <td>Umar</td>\n",
       "      <td>Dataanalyst</td>\n",
       "      <td>NaN</td>\n",
       "      <td>NaN</td>\n",
       "      <td>15000</td>\n",
       "      <td>4</td>\n",
       "    </tr>\n",
       "    <tr>\n",
       "      <th>3</th>\n",
       "      <td>Jane</td>\n",
       "      <td>Analytics</td>\n",
       "      <td>NaN</td>\n",
       "      <td>Hyderbad</td>\n",
       "      <td>20000</td>\n",
       "      <td>NaN</td>\n",
       "    </tr>\n",
       "    <tr>\n",
       "      <th>4</th>\n",
       "      <td>Uttam</td>\n",
       "      <td>Statistics</td>\n",
       "      <td>67</td>\n",
       "      <td>NaN</td>\n",
       "      <td>30000</td>\n",
       "      <td>5</td>\n",
       "    </tr>\n",
       "    <tr>\n",
       "      <th>5</th>\n",
       "      <td>Kim</td>\n",
       "      <td>NLP</td>\n",
       "      <td>55</td>\n",
       "      <td>Delhi</td>\n",
       "      <td>60000</td>\n",
       "      <td>10</td>\n",
       "    </tr>\n",
       "  </tbody>\n",
       "</table>\n",
       "</div>"
      ],
      "text/plain": [
       "    Name       Domain  Age   Location Salary  Exp\n",
       "0   Mike  Datascience   34     Mumbai   5000    2\n",
       "1  Teddy      Testing   45  Bangalore  10000    3\n",
       "2   Umar  Dataanalyst  NaN        NaN  15000    4\n",
       "3   Jane    Analytics  NaN   Hyderbad  20000  NaN\n",
       "4  Uttam   Statistics   67        NaN  30000    5\n",
       "5    Kim          NLP   55      Delhi  60000   10"
      ]
     },
     "execution_count": 142,
     "metadata": {},
     "output_type": "execute_result"
    }
   ],
   "source": [
    "clean_data"
   ]
  },
  {
   "cell_type": "code",
   "execution_count": 144,
   "id": "4b3c3876-6e72-4d6b-8f73-587d67004551",
   "metadata": {},
   "outputs": [
    {
     "data": {
      "text/plain": [
       "Name        0\n",
       "Domain      0\n",
       "Age         2\n",
       "Location    2\n",
       "Salary      0\n",
       "Exp         1\n",
       "dtype: int64"
      ]
     },
     "execution_count": 144,
     "metadata": {},
     "output_type": "execute_result"
    }
   ],
   "source": [
    "clean_data.isnull().sum()"
   ]
  },
  {
   "cell_type": "code",
   "execution_count": 151,
   "id": "4a2f4e3f-efec-453c-8cc2-1a34d56bb026",
   "metadata": {},
   "outputs": [],
   "source": [
    "import numpy as np"
   ]
  },
  {
   "cell_type": "markdown",
   "id": "22ade0f3-f390-4cb8-beef-1a070e6e431b",
   "metadata": {},
   "source": [
    "#### Lets fill numerical missing data"
   ]
  },
  {
   "cell_type": "code",
   "execution_count": 153,
   "id": "57d9f17c-a739-43a7-bb30-d09c9490b354",
   "metadata": {},
   "outputs": [
    {
     "data": {
      "text/plain": [
       "0     34\n",
       "1     45\n",
       "2    NaN\n",
       "3    NaN\n",
       "4     67\n",
       "5     55\n",
       "Name: Age, dtype: object"
      ]
     },
     "execution_count": 153,
     "metadata": {},
     "output_type": "execute_result"
    }
   ],
   "source": [
    "clean_data['Age']"
   ]
  },
  {
   "cell_type": "code",
   "execution_count": 157,
   "id": "729aa8bd-d385-47eb-86ec-79464d3ccf7c",
   "metadata": {},
   "outputs": [],
   "source": [
    "clean_data['Age'] = clean_data['Age'].fillna(np.mean(pd.to_numeric(clean_data['Age'])))"
   ]
  },
  {
   "cell_type": "markdown",
   "id": "b238b8f8-4187-47fa-a931-ede8f889f64b",
   "metadata": {},
   "source": [
    "Explanation:\n",
    "\n",
    "- Conversion to Numeric: \"pd.to_numeric(clean_data['Age'])\" converts the 'Age' column to numeric,    turning any non-convertible values into NaN.\n",
    "\n",
    "- Calculate Mean: mean_age = np.mean() computes the mean of the non-NaN values.\n",
    "\n",
    "- Fill Missing Values: clean_data['Age'].fillna(mean_age) replaces NaN values with the calculated mean.\n",
    "\n",
    "\n",
    "Here:\n",
    "\n",
    "* Non-numeric values are converted to NaN.\n",
    " \n",
    "* The mean of the numeric values is calculated.\n",
    "  \n",
    "* Missing values are filled with this mean."
   ]
  },
  {
   "cell_type": "code",
   "execution_count": 159,
   "id": "d0f2e453-8e12-49a7-b230-0e2d9dc718c1",
   "metadata": {},
   "outputs": [
    {
     "data": {
      "text/plain": [
       "0       34\n",
       "1       45\n",
       "2    50.25\n",
       "3    50.25\n",
       "4       67\n",
       "5       55\n",
       "Name: Age, dtype: object"
      ]
     },
     "execution_count": 159,
     "metadata": {},
     "output_type": "execute_result"
    }
   ],
   "source": [
    "clean_data['Age']"
   ]
  },
  {
   "cell_type": "code",
   "execution_count": 165,
   "id": "ecb77982-06ac-47d7-ac6c-9c47db22877b",
   "metadata": {},
   "outputs": [
    {
     "data": {
      "text/plain": [
       "0      2\n",
       "1      3\n",
       "2      4\n",
       "3    NaN\n",
       "4      5\n",
       "5     10\n",
       "Name: Exp, dtype: object"
      ]
     },
     "execution_count": 165,
     "metadata": {},
     "output_type": "execute_result"
    }
   ],
   "source": [
    "clean_data['Exp']"
   ]
  },
  {
   "cell_type": "code",
   "execution_count": 167,
   "id": "14c4faf5-aa37-4f56-b288-adda56222835",
   "metadata": {},
   "outputs": [],
   "source": [
    "clean_data['Exp'] = clean_data['Exp'].fillna(np.mean(pd.to_numeric(clean_data['Exp'])))"
   ]
  },
  {
   "cell_type": "code",
   "execution_count": 169,
   "id": "9d651d7b-0547-4b43-8e79-5654d9f6c32e",
   "metadata": {},
   "outputs": [
    {
     "data": {
      "text/plain": [
       "0      2\n",
       "1      3\n",
       "2      4\n",
       "3    4.8\n",
       "4      5\n",
       "5     10\n",
       "Name: Exp, dtype: object"
      ]
     },
     "execution_count": 169,
     "metadata": {},
     "output_type": "execute_result"
    }
   ],
   "source": [
    "clean_data['Exp']"
   ]
  },
  {
   "cell_type": "code",
   "execution_count": 171,
   "id": "b25759a8-6c00-4580-a927-18879d6f89bc",
   "metadata": {},
   "outputs": [
    {
     "data": {
      "text/html": [
       "<div>\n",
       "<style scoped>\n",
       "    .dataframe tbody tr th:only-of-type {\n",
       "        vertical-align: middle;\n",
       "    }\n",
       "\n",
       "    .dataframe tbody tr th {\n",
       "        vertical-align: top;\n",
       "    }\n",
       "\n",
       "    .dataframe thead th {\n",
       "        text-align: right;\n",
       "    }\n",
       "</style>\n",
       "<table border=\"1\" class=\"dataframe\">\n",
       "  <thead>\n",
       "    <tr style=\"text-align: right;\">\n",
       "      <th></th>\n",
       "      <th>Name</th>\n",
       "      <th>Domain</th>\n",
       "      <th>Age</th>\n",
       "      <th>Location</th>\n",
       "      <th>Salary</th>\n",
       "      <th>Exp</th>\n",
       "    </tr>\n",
       "  </thead>\n",
       "  <tbody>\n",
       "    <tr>\n",
       "      <th>0</th>\n",
       "      <td>Mike</td>\n",
       "      <td>Datascience</td>\n",
       "      <td>34</td>\n",
       "      <td>Mumbai</td>\n",
       "      <td>5000</td>\n",
       "      <td>2</td>\n",
       "    </tr>\n",
       "    <tr>\n",
       "      <th>1</th>\n",
       "      <td>Teddy</td>\n",
       "      <td>Testing</td>\n",
       "      <td>45</td>\n",
       "      <td>Bangalore</td>\n",
       "      <td>10000</td>\n",
       "      <td>3</td>\n",
       "    </tr>\n",
       "    <tr>\n",
       "      <th>2</th>\n",
       "      <td>Umar</td>\n",
       "      <td>Dataanalyst</td>\n",
       "      <td>50.25</td>\n",
       "      <td>NaN</td>\n",
       "      <td>15000</td>\n",
       "      <td>4</td>\n",
       "    </tr>\n",
       "    <tr>\n",
       "      <th>3</th>\n",
       "      <td>Jane</td>\n",
       "      <td>Analytics</td>\n",
       "      <td>50.25</td>\n",
       "      <td>Hyderbad</td>\n",
       "      <td>20000</td>\n",
       "      <td>4.8</td>\n",
       "    </tr>\n",
       "    <tr>\n",
       "      <th>4</th>\n",
       "      <td>Uttam</td>\n",
       "      <td>Statistics</td>\n",
       "      <td>67</td>\n",
       "      <td>NaN</td>\n",
       "      <td>30000</td>\n",
       "      <td>5</td>\n",
       "    </tr>\n",
       "    <tr>\n",
       "      <th>5</th>\n",
       "      <td>Kim</td>\n",
       "      <td>NLP</td>\n",
       "      <td>55</td>\n",
       "      <td>Delhi</td>\n",
       "      <td>60000</td>\n",
       "      <td>10</td>\n",
       "    </tr>\n",
       "  </tbody>\n",
       "</table>\n",
       "</div>"
      ],
      "text/plain": [
       "    Name       Domain    Age   Location Salary  Exp\n",
       "0   Mike  Datascience     34     Mumbai   5000    2\n",
       "1  Teddy      Testing     45  Bangalore  10000    3\n",
       "2   Umar  Dataanalyst  50.25        NaN  15000    4\n",
       "3   Jane    Analytics  50.25   Hyderbad  20000  4.8\n",
       "4  Uttam   Statistics     67        NaN  30000    5\n",
       "5    Kim          NLP     55      Delhi  60000   10"
      ]
     },
     "execution_count": 171,
     "metadata": {},
     "output_type": "execute_result"
    }
   ],
   "source": [
    "clean_data"
   ]
  },
  {
   "cell_type": "markdown",
   "id": "44195aa4-5f88-4ddd-bb23-1690328ecdb5",
   "metadata": {},
   "source": [
    "#### Now, lets fill categorical missing data"
   ]
  },
  {
   "cell_type": "code",
   "execution_count": 176,
   "id": "1d4f2558-1084-4710-8987-a64be4eaabbb",
   "metadata": {},
   "outputs": [
    {
     "data": {
      "text/plain": [
       "0       Mumbai\n",
       "1    Bangalore\n",
       "2          NaN\n",
       "3     Hyderbad\n",
       "4          NaN\n",
       "5        Delhi\n",
       "Name: Location, dtype: object"
      ]
     },
     "execution_count": 176,
     "metadata": {},
     "output_type": "execute_result"
    }
   ],
   "source": [
    "clean_data['Location']"
   ]
  },
  {
   "cell_type": "code",
   "execution_count": 178,
   "id": "cb699025-2ae6-47f9-a579-15eff65e015b",
   "metadata": {},
   "outputs": [],
   "source": [
    "clean_data['Location'] = clean_data['Location'].fillna(clean_data['Location'].mode()[0])"
   ]
  },
  {
   "cell_type": "markdown",
   "id": "b6b7028f-7ae5-4854-a5bc-d2a6d7129854",
   "metadata": {},
   "source": [
    "Explanation:\n",
    "\n",
    "- Calculate Mode: clean_data['Location'].mode()[0] gets the most frequent value. \n",
    "- If there are multiple modes, [0] takes the first one. If you want to handle multiple modes differently, you'll need to add additional logic.\n",
    "\n",
    "- Fill Missing Values: \".fillna\" replaces NaN values with the mode value."
   ]
  },
  {
   "cell_type": "code",
   "execution_count": 184,
   "id": "3e8ec206-7b0a-4329-84ea-7929c07c7c79",
   "metadata": {},
   "outputs": [
    {
     "data": {
      "text/plain": [
       "0       Mumbai\n",
       "1    Bangalore\n",
       "2    Bangalore\n",
       "3     Hyderbad\n",
       "4    Bangalore\n",
       "5        Delhi\n",
       "Name: Location, dtype: object"
      ]
     },
     "execution_count": 184,
     "metadata": {},
     "output_type": "execute_result"
    }
   ],
   "source": [
    "clean_data['Location']"
   ]
  },
  {
   "cell_type": "code",
   "execution_count": 186,
   "id": "d1511c58-c39c-4b14-a1f9-c597607d9d89",
   "metadata": {},
   "outputs": [
    {
     "name": "stdout",
     "output_type": "stream",
     "text": [
      "<class 'pandas.core.frame.DataFrame'>\n",
      "RangeIndex: 6 entries, 0 to 5\n",
      "Data columns (total 6 columns):\n",
      " #   Column    Non-Null Count  Dtype \n",
      "---  ------    --------------  ----- \n",
      " 0   Name      6 non-null      object\n",
      " 1   Domain    6 non-null      object\n",
      " 2   Age       6 non-null      object\n",
      " 3   Location  6 non-null      object\n",
      " 4   Salary    6 non-null      object\n",
      " 5   Exp       6 non-null      object\n",
      "dtypes: object(6)\n",
      "memory usage: 420.0+ bytes\n"
     ]
    }
   ],
   "source": [
    "clean_data.info()"
   ]
  },
  {
   "cell_type": "markdown",
   "id": "893a117f-6e42-479f-93af-5e2fb2db48fb",
   "metadata": {},
   "source": [
    "#### Here every attribute is shown as object, so lets change them to int and categorical"
   ]
  },
  {
   "cell_type": "code",
   "execution_count": 191,
   "id": "7d3617a1-79d4-4761-a2d8-ddeec46449e3",
   "metadata": {},
   "outputs": [],
   "source": [
    "clean_data['Age'] = clean_data['Age'].astype(int)\n",
    "clean_data['Salary'] = clean_data['Salary'].astype(int)\n",
    "clean_data['Exp'] = clean_data['Exp'].astype(int)"
   ]
  },
  {
   "cell_type": "code",
   "execution_count": 189,
   "id": "a4027c7c-a058-4998-8e71-1e5918eafbbc",
   "metadata": {},
   "outputs": [],
   "source": [
    "clean_data['Name'] = clean_data['Name'].astype('category')\n",
    "clean_data['Domain'] = clean_data['Domain'].astype('category')\n",
    "clean_data['Location'] = clean_data['Location'].astype('category')"
   ]
  },
  {
   "cell_type": "code",
   "execution_count": 193,
   "id": "51ebdc69-ed6a-447f-88b9-2d2e82e0cf3b",
   "metadata": {},
   "outputs": [
    {
     "name": "stdout",
     "output_type": "stream",
     "text": [
      "<class 'pandas.core.frame.DataFrame'>\n",
      "RangeIndex: 6 entries, 0 to 5\n",
      "Data columns (total 6 columns):\n",
      " #   Column    Non-Null Count  Dtype   \n",
      "---  ------    --------------  -----   \n",
      " 0   Name      6 non-null      category\n",
      " 1   Domain    6 non-null      category\n",
      " 2   Age       6 non-null      int32   \n",
      " 3   Location  6 non-null      category\n",
      " 4   Salary    6 non-null      int32   \n",
      " 5   Exp       6 non-null      int32   \n",
      "dtypes: category(3), int32(3)\n",
      "memory usage: 866.0 bytes\n"
     ]
    }
   ],
   "source": [
    "clean_data.info()"
   ]
  },
  {
   "cell_type": "code",
   "execution_count": 195,
   "id": "84a1f3dd-4952-4332-a24f-1bbb91fe8b3b",
   "metadata": {},
   "outputs": [
    {
     "data": {
      "text/html": [
       "<div>\n",
       "<style scoped>\n",
       "    .dataframe tbody tr th:only-of-type {\n",
       "        vertical-align: middle;\n",
       "    }\n",
       "\n",
       "    .dataframe tbody tr th {\n",
       "        vertical-align: top;\n",
       "    }\n",
       "\n",
       "    .dataframe thead th {\n",
       "        text-align: right;\n",
       "    }\n",
       "</style>\n",
       "<table border=\"1\" class=\"dataframe\">\n",
       "  <thead>\n",
       "    <tr style=\"text-align: right;\">\n",
       "      <th></th>\n",
       "      <th>Name</th>\n",
       "      <th>Domain</th>\n",
       "      <th>Age</th>\n",
       "      <th>Location</th>\n",
       "      <th>Salary</th>\n",
       "      <th>Exp</th>\n",
       "    </tr>\n",
       "  </thead>\n",
       "  <tbody>\n",
       "    <tr>\n",
       "      <th>0</th>\n",
       "      <td>Mike</td>\n",
       "      <td>Datascience</td>\n",
       "      <td>34</td>\n",
       "      <td>Mumbai</td>\n",
       "      <td>5000</td>\n",
       "      <td>2</td>\n",
       "    </tr>\n",
       "    <tr>\n",
       "      <th>1</th>\n",
       "      <td>Teddy</td>\n",
       "      <td>Testing</td>\n",
       "      <td>45</td>\n",
       "      <td>Bangalore</td>\n",
       "      <td>10000</td>\n",
       "      <td>3</td>\n",
       "    </tr>\n",
       "    <tr>\n",
       "      <th>2</th>\n",
       "      <td>Umar</td>\n",
       "      <td>Dataanalyst</td>\n",
       "      <td>50</td>\n",
       "      <td>Bangalore</td>\n",
       "      <td>15000</td>\n",
       "      <td>4</td>\n",
       "    </tr>\n",
       "    <tr>\n",
       "      <th>3</th>\n",
       "      <td>Jane</td>\n",
       "      <td>Analytics</td>\n",
       "      <td>50</td>\n",
       "      <td>Hyderbad</td>\n",
       "      <td>20000</td>\n",
       "      <td>4</td>\n",
       "    </tr>\n",
       "    <tr>\n",
       "      <th>4</th>\n",
       "      <td>Uttam</td>\n",
       "      <td>Statistics</td>\n",
       "      <td>67</td>\n",
       "      <td>Bangalore</td>\n",
       "      <td>30000</td>\n",
       "      <td>5</td>\n",
       "    </tr>\n",
       "    <tr>\n",
       "      <th>5</th>\n",
       "      <td>Kim</td>\n",
       "      <td>NLP</td>\n",
       "      <td>55</td>\n",
       "      <td>Delhi</td>\n",
       "      <td>60000</td>\n",
       "      <td>10</td>\n",
       "    </tr>\n",
       "  </tbody>\n",
       "</table>\n",
       "</div>"
      ],
      "text/plain": [
       "    Name       Domain  Age   Location  Salary  Exp\n",
       "0   Mike  Datascience   34     Mumbai    5000    2\n",
       "1  Teddy      Testing   45  Bangalore   10000    3\n",
       "2   Umar  Dataanalyst   50  Bangalore   15000    4\n",
       "3   Jane    Analytics   50   Hyderbad   20000    4\n",
       "4  Uttam   Statistics   67  Bangalore   30000    5\n",
       "5    Kim          NLP   55      Delhi   60000   10"
      ]
     },
     "execution_count": 195,
     "metadata": {},
     "output_type": "execute_result"
    }
   ],
   "source": [
    "clean_data"
   ]
  },
  {
   "cell_type": "markdown",
   "id": "53c6ce9a-6835-494e-bc36-12d124a6c965",
   "metadata": {},
   "source": [
    "#### Now lets save this cleaned data as a new csv file with name CLEANED_DATA"
   ]
  },
  {
   "cell_type": "code",
   "execution_count": 208,
   "id": "92f61982-c52c-4262-8493-54cc49d2d4c0",
   "metadata": {},
   "outputs": [],
   "source": [
    "clean_data.to_csv('CLEANED_DATA.csv')  #Dont forget to add .csv in file name"
   ]
  },
  {
   "cell_type": "code",
   "execution_count": 210,
   "id": "deec58d7-77c7-4417-acf2-555e05e05924",
   "metadata": {},
   "outputs": [
    {
     "data": {
      "text/plain": [
       "'C:\\\\Users\\\\TANISHQ\\\\Naresh_IT_Everyday_Personal'"
      ]
     },
     "execution_count": 210,
     "metadata": {},
     "output_type": "execute_result"
    }
   ],
   "source": [
    "import os\n",
    "os.getcwd()\n",
    "\n",
    "# Import os Module: This imports the os module, which provides a way of interacting with the operating system.\n",
    "# os.getcwd(): This function returns the current working directory as a string(where are file is saved)."
   ]
  },
  {
   "cell_type": "markdown",
   "id": "68a8269b-d5ff-4454-9755-7331599849db",
   "metadata": {},
   "source": [
    "# Lets Apply EDA technique\n",
    "Exploratory Data Analysis (EDA) with Python involves analyzing and summarizing data to gain insights and understand its underlying patterns, relationships, and distributions"
   ]
  },
  {
   "cell_type": "code",
   "execution_count": 213,
   "id": "4cbeff51-9959-4169-be9c-8204a27444bd",
   "metadata": {},
   "outputs": [],
   "source": [
    "import matplotlib.pyplot as plt # matplotlib.pyplot is a powerful tool for data visualization in Python\n",
    "import seaborn as sns  #Seaborn is a statistical data visualization library built on top of Matplotlib"
   ]
  },
  {
   "cell_type": "code",
   "execution_count": 215,
   "id": "44306c69-008d-4e1c-97c2-49b70e9ff015",
   "metadata": {},
   "outputs": [],
   "source": [
    "import warnings\n",
    "warnings.filterwarnings('ignore')"
   ]
  },
  {
   "cell_type": "markdown",
   "id": "5b218d64-ddf5-493a-b34a-edd1ba4d931a",
   "metadata": {},
   "source": [
    "- The warnings module in Python is used to handle and control warnings that may arise during the execution of a program.\n",
    "\n",
    "- Suppressing WarningsUsing warnings.filterwarnings('ignore') is a way to suppress these warnings. To prevent warnings from cluttering your output."
   ]
  },
  {
   "cell_type": "code",
   "execution_count": 217,
   "id": "9889088e-7705-467d-90bf-6ee17eff9e52",
   "metadata": {},
   "outputs": [
    {
     "data": {
      "text/plain": [
       "0     5000\n",
       "1    10000\n",
       "2    15000\n",
       "3    20000\n",
       "4    30000\n",
       "5    60000\n",
       "Name: Salary, dtype: int32"
      ]
     },
     "execution_count": 217,
     "metadata": {},
     "output_type": "execute_result"
    }
   ],
   "source": [
    "clean_data['Salary']"
   ]
  },
  {
   "cell_type": "code",
   "execution_count": 223,
   "id": "0adb85ca-7271-4d03-94c2-407cbfe5ef29",
   "metadata": {},
   "outputs": [
    {
     "data": {
      "image/png": "[encoded data removed]",
      "text/plain": [
       "<Figure size 640x480 with 1 Axes>"
      ]
     },
     "metadata": {},
     "output_type": "display_data"
    }
   ],
   "source": [
    "vis1 = sns.distplot(clean_data['Salary'])"
   ]
  },
  {
   "cell_type": "code",
   "execution_count": 225,
   "id": "e4ba30ef-8e4f-4c69-bf89-0eb220301930",
   "metadata": {},
   "outputs": [
    {
     "data": {
      "image/png": "[encoded data removed]",
      "text/plain": [
       "<Figure size 640x480 with 1 Axes>"
      ]
     },
     "metadata": {},
     "output_type": "display_data"
    }
   ],
   "source": [
    "vis2 = plt.hist(clean_data['Salary'])"
   ]
  },
  {
   "cell_type": "code",
   "execution_count": 227,
   "id": "9404ae29-bc70-415d-bff9-81accd622774",
   "metadata": {},
   "outputs": [
    {
     "data": {
      "image/png": "[encoded data removed]",
      "text/plain": [
       "<Figure size 500x500 with 1 Axes>"
      ]
     },
     "metadata": {},
     "output_type": "display_data"
    }
   ],
   "source": [
    "vis4 = sns.lmplot(data = clean_data, x = 'Exp', y = 'Salary')"
   ]
  },
  {
   "cell_type": "code",
   "execution_count": 229,
   "id": "6ba850af-1813-44a0-8219-b137e3bf807d",
   "metadata": {},
   "outputs": [
    {
     "data": {
      "image/png": "[encoded data removed]",
      "text/plain": [
       "<Figure size 500x500 with 1 Axes>"
      ]
     },
     "metadata": {},
     "output_type": "display_data"
    }
   ],
   "source": [
    "vis5 = sns.lmplot(data = clean_data, x = 'Exp', y = 'Salary', fit_reg = False)"
   ]
  },
  {
   "cell_type": "code",
   "execution_count": 231,
   "id": "49267cf7-9e6b-45e5-8b34-5ac831e2ad11",
   "metadata": {},
   "outputs": [
    {
     "data": {
      "text/html": [
       "<div>\n",
       "<style scoped>\n",
       "    .dataframe tbody tr th:only-of-type {\n",
       "        vertical-align: middle;\n",
       "    }\n",
       "\n",
       "    .dataframe tbody tr th {\n",
       "        vertical-align: top;\n",
       "    }\n",
       "\n",
       "    .dataframe thead th {\n",
       "        text-align: right;\n",
       "    }\n",
       "</style>\n",
       "<table border=\"1\" class=\"dataframe\">\n",
       "  <thead>\n",
       "    <tr style=\"text-align: right;\">\n",
       "      <th></th>\n",
       "      <th>Name</th>\n",
       "      <th>Domain</th>\n",
       "      <th>Age</th>\n",
       "      <th>Location</th>\n",
       "      <th>Salary</th>\n",
       "      <th>Exp</th>\n",
       "    </tr>\n",
       "  </thead>\n",
       "  <tbody>\n",
       "    <tr>\n",
       "      <th>0</th>\n",
       "      <td>Mike</td>\n",
       "      <td>Datascience</td>\n",
       "      <td>34</td>\n",
       "      <td>Mumbai</td>\n",
       "      <td>5000</td>\n",
       "      <td>2</td>\n",
       "    </tr>\n",
       "    <tr>\n",
       "      <th>1</th>\n",
       "      <td>Teddy</td>\n",
       "      <td>Testing</td>\n",
       "      <td>45</td>\n",
       "      <td>Bangalore</td>\n",
       "      <td>10000</td>\n",
       "      <td>3</td>\n",
       "    </tr>\n",
       "    <tr>\n",
       "      <th>2</th>\n",
       "      <td>Umar</td>\n",
       "      <td>Dataanalyst</td>\n",
       "      <td>50</td>\n",
       "      <td>Bangalore</td>\n",
       "      <td>15000</td>\n",
       "      <td>4</td>\n",
       "    </tr>\n",
       "    <tr>\n",
       "      <th>3</th>\n",
       "      <td>Jane</td>\n",
       "      <td>Analytics</td>\n",
       "      <td>50</td>\n",
       "      <td>Hyderbad</td>\n",
       "      <td>20000</td>\n",
       "      <td>4</td>\n",
       "    </tr>\n",
       "    <tr>\n",
       "      <th>4</th>\n",
       "      <td>Uttam</td>\n",
       "      <td>Statistics</td>\n",
       "      <td>67</td>\n",
       "      <td>Bangalore</td>\n",
       "      <td>30000</td>\n",
       "      <td>5</td>\n",
       "    </tr>\n",
       "    <tr>\n",
       "      <th>5</th>\n",
       "      <td>Kim</td>\n",
       "      <td>NLP</td>\n",
       "      <td>55</td>\n",
       "      <td>Delhi</td>\n",
       "      <td>60000</td>\n",
       "      <td>10</td>\n",
       "    </tr>\n",
       "  </tbody>\n",
       "</table>\n",
       "</div>"
      ],
      "text/plain": [
       "    Name       Domain  Age   Location  Salary  Exp\n",
       "0   Mike  Datascience   34     Mumbai    5000    2\n",
       "1  Teddy      Testing   45  Bangalore   10000    3\n",
       "2   Umar  Dataanalyst   50  Bangalore   15000    4\n",
       "3   Jane    Analytics   50   Hyderbad   20000    4\n",
       "4  Uttam   Statistics   67  Bangalore   30000    5\n",
       "5    Kim          NLP   55      Delhi   60000   10"
      ]
     },
     "execution_count": 231,
     "metadata": {},
     "output_type": "execute_result"
    }
   ],
   "source": [
    "clean_data[:]"
   ]
  },
  {
   "cell_type": "code",
   "execution_count": 233,
   "id": "21be59e4-405a-4960-ae10-44ae2a673af2",
   "metadata": {},
   "outputs": [
    {
     "data": {
      "text/html": [
       "<div>\n",
       "<style scoped>\n",
       "    .dataframe tbody tr th:only-of-type {\n",
       "        vertical-align: middle;\n",
       "    }\n",
       "\n",
       "    .dataframe tbody tr th {\n",
       "        vertical-align: top;\n",
       "    }\n",
       "\n",
       "    .dataframe thead th {\n",
       "        text-align: right;\n",
       "    }\n",
       "</style>\n",
       "<table border=\"1\" class=\"dataframe\">\n",
       "  <thead>\n",
       "    <tr style=\"text-align: right;\">\n",
       "      <th></th>\n",
       "      <th>Name</th>\n",
       "      <th>Domain</th>\n",
       "      <th>Age</th>\n",
       "      <th>Location</th>\n",
       "      <th>Salary</th>\n",
       "      <th>Exp</th>\n",
       "    </tr>\n",
       "  </thead>\n",
       "  <tbody>\n",
       "    <tr>\n",
       "      <th>0</th>\n",
       "      <td>Mike</td>\n",
       "      <td>Datascience</td>\n",
       "      <td>34</td>\n",
       "      <td>Mumbai</td>\n",
       "      <td>5000</td>\n",
       "      <td>2</td>\n",
       "    </tr>\n",
       "    <tr>\n",
       "      <th>2</th>\n",
       "      <td>Umar</td>\n",
       "      <td>Dataanalyst</td>\n",
       "      <td>50</td>\n",
       "      <td>Bangalore</td>\n",
       "      <td>15000</td>\n",
       "      <td>4</td>\n",
       "    </tr>\n",
       "    <tr>\n",
       "      <th>4</th>\n",
       "      <td>Uttam</td>\n",
       "      <td>Statistics</td>\n",
       "      <td>67</td>\n",
       "      <td>Bangalore</td>\n",
       "      <td>30000</td>\n",
       "      <td>5</td>\n",
       "    </tr>\n",
       "  </tbody>\n",
       "</table>\n",
       "</div>"
      ],
      "text/plain": [
       "    Name       Domain  Age   Location  Salary  Exp\n",
       "0   Mike  Datascience   34     Mumbai    5000    2\n",
       "2   Umar  Dataanalyst   50  Bangalore   15000    4\n",
       "4  Uttam   Statistics   67  Bangalore   30000    5"
      ]
     },
     "execution_count": 233,
     "metadata": {},
     "output_type": "execute_result"
    }
   ],
   "source": [
    "clean_data[0:6:2]"
   ]
  },
  {
   "cell_type": "code",
   "execution_count": 235,
   "id": "3c425db3-d056-41a8-8838-86d1d629524f",
   "metadata": {},
   "outputs": [
    {
     "data": {
      "text/html": [
       "<div>\n",
       "<style scoped>\n",
       "    .dataframe tbody tr th:only-of-type {\n",
       "        vertical-align: middle;\n",
       "    }\n",
       "\n",
       "    .dataframe tbody tr th {\n",
       "        vertical-align: top;\n",
       "    }\n",
       "\n",
       "    .dataframe thead th {\n",
       "        text-align: right;\n",
       "    }\n",
       "</style>\n",
       "<table border=\"1\" class=\"dataframe\">\n",
       "  <thead>\n",
       "    <tr style=\"text-align: right;\">\n",
       "      <th></th>\n",
       "      <th>Name</th>\n",
       "      <th>Domain</th>\n",
       "      <th>Age</th>\n",
       "      <th>Location</th>\n",
       "      <th>Salary</th>\n",
       "      <th>Exp</th>\n",
       "    </tr>\n",
       "  </thead>\n",
       "  <tbody>\n",
       "    <tr>\n",
       "      <th>5</th>\n",
       "      <td>Kim</td>\n",
       "      <td>NLP</td>\n",
       "      <td>55</td>\n",
       "      <td>Delhi</td>\n",
       "      <td>60000</td>\n",
       "      <td>10</td>\n",
       "    </tr>\n",
       "    <tr>\n",
       "      <th>4</th>\n",
       "      <td>Uttam</td>\n",
       "      <td>Statistics</td>\n",
       "      <td>67</td>\n",
       "      <td>Bangalore</td>\n",
       "      <td>30000</td>\n",
       "      <td>5</td>\n",
       "    </tr>\n",
       "    <tr>\n",
       "      <th>3</th>\n",
       "      <td>Jane</td>\n",
       "      <td>Analytics</td>\n",
       "      <td>50</td>\n",
       "      <td>Hyderbad</td>\n",
       "      <td>20000</td>\n",
       "      <td>4</td>\n",
       "    </tr>\n",
       "    <tr>\n",
       "      <th>2</th>\n",
       "      <td>Umar</td>\n",
       "      <td>Dataanalyst</td>\n",
       "      <td>50</td>\n",
       "      <td>Bangalore</td>\n",
       "      <td>15000</td>\n",
       "      <td>4</td>\n",
       "    </tr>\n",
       "    <tr>\n",
       "      <th>1</th>\n",
       "      <td>Teddy</td>\n",
       "      <td>Testing</td>\n",
       "      <td>45</td>\n",
       "      <td>Bangalore</td>\n",
       "      <td>10000</td>\n",
       "      <td>3</td>\n",
       "    </tr>\n",
       "    <tr>\n",
       "      <th>0</th>\n",
       "      <td>Mike</td>\n",
       "      <td>Datascience</td>\n",
       "      <td>34</td>\n",
       "      <td>Mumbai</td>\n",
       "      <td>5000</td>\n",
       "      <td>2</td>\n",
       "    </tr>\n",
       "  </tbody>\n",
       "</table>\n",
       "</div>"
      ],
      "text/plain": [
       "    Name       Domain  Age   Location  Salary  Exp\n",
       "5    Kim          NLP   55      Delhi   60000   10\n",
       "4  Uttam   Statistics   67  Bangalore   30000    5\n",
       "3   Jane    Analytics   50   Hyderbad   20000    4\n",
       "2   Umar  Dataanalyst   50  Bangalore   15000    4\n",
       "1  Teddy      Testing   45  Bangalore   10000    3\n",
       "0   Mike  Datascience   34     Mumbai    5000    2"
      ]
     },
     "execution_count": 235,
     "metadata": {},
     "output_type": "execute_result"
    }
   ],
   "source": [
    "clean_data[::-1]"
   ]
  },
  {
   "cell_type": "code",
   "execution_count": 237,
   "id": "a301c39c-77b8-4524-be27-b47a9129ed5e",
   "metadata": {},
   "outputs": [
    {
     "data": {
      "text/plain": [
       "Index(['Name', 'Domain', 'Age', 'Location', 'Salary', 'Exp'], dtype='object')"
      ]
     },
     "execution_count": 237,
     "metadata": {},
     "output_type": "execute_result"
    }
   ],
   "source": [
    "clean_data.columns"
   ]
  },
  {
   "cell_type": "code",
   "execution_count": 239,
   "id": "c7ec8d28-eeea-4a6e-beeb-b49bacbf397d",
   "metadata": {},
   "outputs": [],
   "source": [
    "x_iv = clean_data[['Name', 'Domain', 'Age', 'Location', 'Exp']]   # INDEPENDENT VARIABLE"
   ]
  },
  {
   "cell_type": "code",
   "execution_count": 241,
   "id": "863d0057-b1cf-46b9-991a-c0d43b1ef170",
   "metadata": {},
   "outputs": [
    {
     "data": {
      "text/html": [
       "<div>\n",
       "<style scoped>\n",
       "    .dataframe tbody tr th:only-of-type {\n",
       "        vertical-align: middle;\n",
       "    }\n",
       "\n",
       "    .dataframe tbody tr th {\n",
       "        vertical-align: top;\n",
       "    }\n",
       "\n",
       "    .dataframe thead th {\n",
       "        text-align: right;\n",
       "    }\n",
       "</style>\n",
       "<table border=\"1\" class=\"dataframe\">\n",
       "  <thead>\n",
       "    <tr style=\"text-align: right;\">\n",
       "      <th></th>\n",
       "      <th>Name</th>\n",
       "      <th>Domain</th>\n",
       "      <th>Age</th>\n",
       "      <th>Location</th>\n",
       "      <th>Exp</th>\n",
       "    </tr>\n",
       "  </thead>\n",
       "  <tbody>\n",
       "    <tr>\n",
       "      <th>0</th>\n",
       "      <td>Mike</td>\n",
       "      <td>Datascience</td>\n",
       "      <td>34</td>\n",
       "      <td>Mumbai</td>\n",
       "      <td>2</td>\n",
       "    </tr>\n",
       "    <tr>\n",
       "      <th>1</th>\n",
       "      <td>Teddy</td>\n",
       "      <td>Testing</td>\n",
       "      <td>45</td>\n",
       "      <td>Bangalore</td>\n",
       "      <td>3</td>\n",
       "    </tr>\n",
       "    <tr>\n",
       "      <th>2</th>\n",
       "      <td>Umar</td>\n",
       "      <td>Dataanalyst</td>\n",
       "      <td>50</td>\n",
       "      <td>Bangalore</td>\n",
       "      <td>4</td>\n",
       "    </tr>\n",
       "    <tr>\n",
       "      <th>3</th>\n",
       "      <td>Jane</td>\n",
       "      <td>Analytics</td>\n",
       "      <td>50</td>\n",
       "      <td>Hyderbad</td>\n",
       "      <td>4</td>\n",
       "    </tr>\n",
       "    <tr>\n",
       "      <th>4</th>\n",
       "      <td>Uttam</td>\n",
       "      <td>Statistics</td>\n",
       "      <td>67</td>\n",
       "      <td>Bangalore</td>\n",
       "      <td>5</td>\n",
       "    </tr>\n",
       "    <tr>\n",
       "      <th>5</th>\n",
       "      <td>Kim</td>\n",
       "      <td>NLP</td>\n",
       "      <td>55</td>\n",
       "      <td>Delhi</td>\n",
       "      <td>10</td>\n",
       "    </tr>\n",
       "  </tbody>\n",
       "</table>\n",
       "</div>"
      ],
      "text/plain": [
       "    Name       Domain  Age   Location  Exp\n",
       "0   Mike  Datascience   34     Mumbai    2\n",
       "1  Teddy      Testing   45  Bangalore    3\n",
       "2   Umar  Dataanalyst   50  Bangalore    4\n",
       "3   Jane    Analytics   50   Hyderbad    4\n",
       "4  Uttam   Statistics   67  Bangalore    5\n",
       "5    Kim          NLP   55      Delhi   10"
      ]
     },
     "execution_count": 241,
     "metadata": {},
     "output_type": "execute_result"
    }
   ],
   "source": [
    "x_iv"
   ]
  },
  {
   "cell_type": "code",
   "execution_count": 243,
   "id": "73b9df5d-ab4c-4200-8cf8-96eb7ef99b78",
   "metadata": {},
   "outputs": [],
   "source": [
    "y_dv = clean_data[['Salary']]  #DEPENDENT VARIABLE"
   ]
  },
  {
   "cell_type": "code",
   "execution_count": 245,
   "id": "92ef3d98-7187-4016-a8fb-f6e9f53aab22",
   "metadata": {},
   "outputs": [
    {
     "data": {
      "text/html": [
       "<div>\n",
       "<style scoped>\n",
       "    .dataframe tbody tr th:only-of-type {\n",
       "        vertical-align: middle;\n",
       "    }\n",
       "\n",
       "    .dataframe tbody tr th {\n",
       "        vertical-align: top;\n",
       "    }\n",
       "\n",
       "    .dataframe thead th {\n",
       "        text-align: right;\n",
       "    }\n",
       "</style>\n",
       "<table border=\"1\" class=\"dataframe\">\n",
       "  <thead>\n",
       "    <tr style=\"text-align: right;\">\n",
       "      <th></th>\n",
       "      <th>Salary</th>\n",
       "    </tr>\n",
       "  </thead>\n",
       "  <tbody>\n",
       "    <tr>\n",
       "      <th>0</th>\n",
       "      <td>5000</td>\n",
       "    </tr>\n",
       "    <tr>\n",
       "      <th>1</th>\n",
       "      <td>10000</td>\n",
       "    </tr>\n",
       "    <tr>\n",
       "      <th>2</th>\n",
       "      <td>15000</td>\n",
       "    </tr>\n",
       "    <tr>\n",
       "      <th>3</th>\n",
       "      <td>20000</td>\n",
       "    </tr>\n",
       "    <tr>\n",
       "      <th>4</th>\n",
       "      <td>30000</td>\n",
       "    </tr>\n",
       "    <tr>\n",
       "      <th>5</th>\n",
       "      <td>60000</td>\n",
       "    </tr>\n",
       "  </tbody>\n",
       "</table>\n",
       "</div>"
      ],
      "text/plain": [
       "   Salary\n",
       "0    5000\n",
       "1   10000\n",
       "2   15000\n",
       "3   20000\n",
       "4   30000\n",
       "5   60000"
      ]
     },
     "execution_count": 245,
     "metadata": {},
     "output_type": "execute_result"
    }
   ],
   "source": [
    "y_dv "
   ]
  },
  {
   "cell_type": "code",
   "execution_count": 247,
   "id": "edd1a006-0ea9-4e15-abda-bef7163c425d",
   "metadata": {},
   "outputs": [
    {
     "data": {
      "text/html": [
       "<div>\n",
       "<style scoped>\n",
       "    .dataframe tbody tr th:only-of-type {\n",
       "        vertical-align: middle;\n",
       "    }\n",
       "\n",
       "    .dataframe tbody tr th {\n",
       "        vertical-align: top;\n",
       "    }\n",
       "\n",
       "    .dataframe thead th {\n",
       "        text-align: right;\n",
       "    }\n",
       "</style>\n",
       "<table border=\"1\" class=\"dataframe\">\n",
       "  <thead>\n",
       "    <tr style=\"text-align: right;\">\n",
       "      <th></th>\n",
       "      <th>Name</th>\n",
       "      <th>Domain</th>\n",
       "      <th>Age</th>\n",
       "      <th>Location</th>\n",
       "      <th>Salary</th>\n",
       "      <th>Exp</th>\n",
       "    </tr>\n",
       "  </thead>\n",
       "  <tbody>\n",
       "    <tr>\n",
       "      <th>0</th>\n",
       "      <td>Mike</td>\n",
       "      <td>Datascience</td>\n",
       "      <td>34</td>\n",
       "      <td>Mumbai</td>\n",
       "      <td>5000</td>\n",
       "      <td>2</td>\n",
       "    </tr>\n",
       "    <tr>\n",
       "      <th>1</th>\n",
       "      <td>Teddy</td>\n",
       "      <td>Testing</td>\n",
       "      <td>45</td>\n",
       "      <td>Bangalore</td>\n",
       "      <td>10000</td>\n",
       "      <td>3</td>\n",
       "    </tr>\n",
       "    <tr>\n",
       "      <th>2</th>\n",
       "      <td>Umar</td>\n",
       "      <td>Dataanalyst</td>\n",
       "      <td>NaN</td>\n",
       "      <td>NaN</td>\n",
       "      <td>15000</td>\n",
       "      <td>4</td>\n",
       "    </tr>\n",
       "    <tr>\n",
       "      <th>3</th>\n",
       "      <td>Jane</td>\n",
       "      <td>Analytics</td>\n",
       "      <td>NaN</td>\n",
       "      <td>Hyderbad</td>\n",
       "      <td>20000</td>\n",
       "      <td>NaN</td>\n",
       "    </tr>\n",
       "    <tr>\n",
       "      <th>4</th>\n",
       "      <td>Uttam</td>\n",
       "      <td>Statistics</td>\n",
       "      <td>67</td>\n",
       "      <td>NaN</td>\n",
       "      <td>30000</td>\n",
       "      <td>5</td>\n",
       "    </tr>\n",
       "    <tr>\n",
       "      <th>5</th>\n",
       "      <td>Kim</td>\n",
       "      <td>NLP</td>\n",
       "      <td>55</td>\n",
       "      <td>Delhi</td>\n",
       "      <td>60000</td>\n",
       "      <td>10</td>\n",
       "    </tr>\n",
       "  </tbody>\n",
       "</table>\n",
       "</div>"
      ],
      "text/plain": [
       "    Name       Domain  Age   Location Salary  Exp\n",
       "0   Mike  Datascience   34     Mumbai   5000    2\n",
       "1  Teddy      Testing   45  Bangalore  10000    3\n",
       "2   Umar  Dataanalyst  NaN        NaN  15000    4\n",
       "3   Jane    Analytics  NaN   Hyderbad  20000  NaN\n",
       "4  Uttam   Statistics   67        NaN  30000    5\n",
       "5    Kim          NLP   55      Delhi  60000   10"
      ]
     },
     "execution_count": 247,
     "metadata": {},
     "output_type": "execute_result"
    }
   ],
   "source": [
    "emp"
   ]
  },
  {
   "cell_type": "code",
   "execution_count": 249,
   "id": "0be699c1-aee1-4b45-bbcc-bbbcbd5d74d6",
   "metadata": {},
   "outputs": [
    {
     "data": {
      "text/html": [
       "<div>\n",
       "<style scoped>\n",
       "    .dataframe tbody tr th:only-of-type {\n",
       "        vertical-align: middle;\n",
       "    }\n",
       "\n",
       "    .dataframe tbody tr th {\n",
       "        vertical-align: top;\n",
       "    }\n",
       "\n",
       "    .dataframe thead th {\n",
       "        text-align: right;\n",
       "    }\n",
       "</style>\n",
       "<table border=\"1\" class=\"dataframe\">\n",
       "  <thead>\n",
       "    <tr style=\"text-align: right;\">\n",
       "      <th></th>\n",
       "      <th>Name</th>\n",
       "      <th>Domain</th>\n",
       "      <th>Age</th>\n",
       "      <th>Location</th>\n",
       "      <th>Salary</th>\n",
       "      <th>Exp</th>\n",
       "    </tr>\n",
       "  </thead>\n",
       "  <tbody>\n",
       "    <tr>\n",
       "      <th>0</th>\n",
       "      <td>Mike</td>\n",
       "      <td>Datascience</td>\n",
       "      <td>34</td>\n",
       "      <td>Mumbai</td>\n",
       "      <td>5000</td>\n",
       "      <td>2</td>\n",
       "    </tr>\n",
       "    <tr>\n",
       "      <th>1</th>\n",
       "      <td>Teddy</td>\n",
       "      <td>Testing</td>\n",
       "      <td>45</td>\n",
       "      <td>Bangalore</td>\n",
       "      <td>10000</td>\n",
       "      <td>3</td>\n",
       "    </tr>\n",
       "    <tr>\n",
       "      <th>2</th>\n",
       "      <td>Umar</td>\n",
       "      <td>Dataanalyst</td>\n",
       "      <td>50</td>\n",
       "      <td>Bangalore</td>\n",
       "      <td>15000</td>\n",
       "      <td>4</td>\n",
       "    </tr>\n",
       "    <tr>\n",
       "      <th>3</th>\n",
       "      <td>Jane</td>\n",
       "      <td>Analytics</td>\n",
       "      <td>50</td>\n",
       "      <td>Hyderbad</td>\n",
       "      <td>20000</td>\n",
       "      <td>4</td>\n",
       "    </tr>\n",
       "    <tr>\n",
       "      <th>4</th>\n",
       "      <td>Uttam</td>\n",
       "      <td>Statistics</td>\n",
       "      <td>67</td>\n",
       "      <td>Bangalore</td>\n",
       "      <td>30000</td>\n",
       "      <td>5</td>\n",
       "    </tr>\n",
       "    <tr>\n",
       "      <th>5</th>\n",
       "      <td>Kim</td>\n",
       "      <td>NLP</td>\n",
       "      <td>55</td>\n",
       "      <td>Delhi</td>\n",
       "      <td>60000</td>\n",
       "      <td>10</td>\n",
       "    </tr>\n",
       "  </tbody>\n",
       "</table>\n",
       "</div>"
      ],
      "text/plain": [
       "    Name       Domain  Age   Location  Salary  Exp\n",
       "0   Mike  Datascience   34     Mumbai    5000    2\n",
       "1  Teddy      Testing   45  Bangalore   10000    3\n",
       "2   Umar  Dataanalyst   50  Bangalore   15000    4\n",
       "3   Jane    Analytics   50   Hyderbad   20000    4\n",
       "4  Uttam   Statistics   67  Bangalore   30000    5\n",
       "5    Kim          NLP   55      Delhi   60000   10"
      ]
     },
     "execution_count": 249,
     "metadata": {},
     "output_type": "execute_result"
    }
   ],
   "source": [
    "clean_data"
   ]
  },
  {
   "cell_type": "markdown",
   "id": "54b4db9c-8e39-4c9a-8ca8-ba1931711dd0",
   "metadata": {},
   "source": [
    "### IMPUTATION : The missing data are filled in to create a complete data matrix that can be analyzed using standard methods"
   ]
  },
  {
   "cell_type": "code",
   "execution_count": 271,
   "id": "ef8706fd-df79-4b76-bbe9-c0a4fb1b6fdc",
   "metadata": {},
   "outputs": [],
   "source": [
    "imputation = pd.get_dummies(clean_data)"
   ]
  },
  {
   "cell_type": "code",
   "execution_count": 273,
   "id": "6ea44ce7-c20c-4344-aa9a-9afadf8638b4",
   "metadata": {},
   "outputs": [
    {
     "data": {
      "text/html": [
       "<div>\n",
       "<style scoped>\n",
       "    .dataframe tbody tr th:only-of-type {\n",
       "        vertical-align: middle;\n",
       "    }\n",
       "\n",
       "    .dataframe tbody tr th {\n",
       "        vertical-align: top;\n",
       "    }\n",
       "\n",
       "    .dataframe thead th {\n",
       "        text-align: right;\n",
       "    }\n",
       "</style>\n",
       "<table border=\"1\" class=\"dataframe\">\n",
       "  <thead>\n",
       "    <tr style=\"text-align: right;\">\n",
       "      <th></th>\n",
       "      <th>Age</th>\n",
       "      <th>Salary</th>\n",
       "      <th>Exp</th>\n",
       "      <th>Name_Jane</th>\n",
       "      <th>Name_Kim</th>\n",
       "      <th>Name_Mike</th>\n",
       "      <th>Name_Teddy</th>\n",
       "      <th>Name_Umar</th>\n",
       "      <th>Name_Uttam</th>\n",
       "      <th>Domain_Analytics</th>\n",
       "      <th>Domain_Dataanalyst</th>\n",
       "      <th>Domain_Datascience</th>\n",
       "      <th>Domain_NLP</th>\n",
       "      <th>Domain_Statistics</th>\n",
       "      <th>Domain_Testing</th>\n",
       "      <th>Location_Bangalore</th>\n",
       "      <th>Location_Delhi</th>\n",
       "      <th>Location_Hyderbad</th>\n",
       "      <th>Location_Mumbai</th>\n",
       "    </tr>\n",
       "  </thead>\n",
       "  <tbody>\n",
       "    <tr>\n",
       "      <th>0</th>\n",
       "      <td>34</td>\n",
       "      <td>5000</td>\n",
       "      <td>2</td>\n",
       "      <td>False</td>\n",
       "      <td>False</td>\n",
       "      <td>True</td>\n",
       "      <td>False</td>\n",
       "      <td>False</td>\n",
       "      <td>False</td>\n",
       "      <td>False</td>\n",
       "      <td>False</td>\n",
       "      <td>True</td>\n",
       "      <td>False</td>\n",
       "      <td>False</td>\n",
       "      <td>False</td>\n",
       "      <td>False</td>\n",
       "      <td>False</td>\n",
       "      <td>False</td>\n",
       "      <td>True</td>\n",
       "    </tr>\n",
       "    <tr>\n",
       "      <th>1</th>\n",
       "      <td>45</td>\n",
       "      <td>10000</td>\n",
       "      <td>3</td>\n",
       "      <td>False</td>\n",
       "      <td>False</td>\n",
       "      <td>False</td>\n",
       "      <td>True</td>\n",
       "      <td>False</td>\n",
       "      <td>False</td>\n",
       "      <td>False</td>\n",
       "      <td>False</td>\n",
       "      <td>False</td>\n",
       "      <td>False</td>\n",
       "      <td>False</td>\n",
       "      <td>True</td>\n",
       "      <td>True</td>\n",
       "      <td>False</td>\n",
       "      <td>False</td>\n",
       "      <td>False</td>\n",
       "    </tr>\n",
       "    <tr>\n",
       "      <th>2</th>\n",
       "      <td>50</td>\n",
       "      <td>15000</td>\n",
       "      <td>4</td>\n",
       "      <td>False</td>\n",
       "      <td>False</td>\n",
       "      <td>False</td>\n",
       "      <td>False</td>\n",
       "      <td>True</td>\n",
       "      <td>False</td>\n",
       "      <td>False</td>\n",
       "      <td>True</td>\n",
       "      <td>False</td>\n",
       "      <td>False</td>\n",
       "      <td>False</td>\n",
       "      <td>False</td>\n",
       "      <td>True</td>\n",
       "      <td>False</td>\n",
       "      <td>False</td>\n",
       "      <td>False</td>\n",
       "    </tr>\n",
       "    <tr>\n",
       "      <th>3</th>\n",
       "      <td>50</td>\n",
       "      <td>20000</td>\n",
       "      <td>4</td>\n",
       "      <td>True</td>\n",
       "      <td>False</td>\n",
       "      <td>False</td>\n",
       "      <td>False</td>\n",
       "      <td>False</td>\n",
       "      <td>False</td>\n",
       "      <td>True</td>\n",
       "      <td>False</td>\n",
       "      <td>False</td>\n",
       "      <td>False</td>\n",
       "      <td>False</td>\n",
       "      <td>False</td>\n",
       "      <td>False</td>\n",
       "      <td>False</td>\n",
       "      <td>True</td>\n",
       "      <td>False</td>\n",
       "    </tr>\n",
       "    <tr>\n",
       "      <th>4</th>\n",
       "      <td>67</td>\n",
       "      <td>30000</td>\n",
       "      <td>5</td>\n",
       "      <td>False</td>\n",
       "      <td>False</td>\n",
       "      <td>False</td>\n",
       "      <td>False</td>\n",
       "      <td>False</td>\n",
       "      <td>True</td>\n",
       "      <td>False</td>\n",
       "      <td>False</td>\n",
       "      <td>False</td>\n",
       "      <td>False</td>\n",
       "      <td>True</td>\n",
       "      <td>False</td>\n",
       "      <td>True</td>\n",
       "      <td>False</td>\n",
       "      <td>False</td>\n",
       "      <td>False</td>\n",
       "    </tr>\n",
       "    <tr>\n",
       "      <th>5</th>\n",
       "      <td>55</td>\n",
       "      <td>60000</td>\n",
       "      <td>10</td>\n",
       "      <td>False</td>\n",
       "      <td>True</td>\n",
       "      <td>False</td>\n",
       "      <td>False</td>\n",
       "      <td>False</td>\n",
       "      <td>False</td>\n",
       "      <td>False</td>\n",
       "      <td>False</td>\n",
       "      <td>False</td>\n",
       "      <td>True</td>\n",
       "      <td>False</td>\n",
       "      <td>False</td>\n",
       "      <td>False</td>\n",
       "      <td>True</td>\n",
       "      <td>False</td>\n",
       "      <td>False</td>\n",
       "    </tr>\n",
       "  </tbody>\n",
       "</table>\n",
       "</div>"
      ],
      "text/plain": [
       "   Age  Salary  Exp  Name_Jane  Name_Kim  Name_Mike  Name_Teddy  Name_Umar  \\\n",
       "0   34    5000    2      False     False       True       False      False   \n",
       "1   45   10000    3      False     False      False        True      False   \n",
       "2   50   15000    4      False     False      False       False       True   \n",
       "3   50   20000    4       True     False      False       False      False   \n",
       "4   67   30000    5      False     False      False       False      False   \n",
       "5   55   60000   10      False      True      False       False      False   \n",
       "\n",
       "   Name_Uttam  Domain_Analytics  Domain_Dataanalyst  Domain_Datascience  \\\n",
       "0       False             False               False                True   \n",
       "1       False             False               False               False   \n",
       "2       False             False                True               False   \n",
       "3       False              True               False               False   \n",
       "4        True             False               False               False   \n",
       "5       False             False               False               False   \n",
       "\n",
       "   Domain_NLP  Domain_Statistics  Domain_Testing  Location_Bangalore  \\\n",
       "0       False              False           False               False   \n",
       "1       False              False            True                True   \n",
       "2       False              False           False                True   \n",
       "3       False              False           False               False   \n",
       "4       False               True           False                True   \n",
       "5        True              False           False               False   \n",
       "\n",
       "   Location_Delhi  Location_Hyderbad  Location_Mumbai  \n",
       "0           False              False             True  \n",
       "1           False              False            False  \n",
       "2           False              False            False  \n",
       "3           False               True            False  \n",
       "4           False              False            False  \n",
       "5            True              False            False  "
      ]
     },
     "execution_count": 273,
     "metadata": {},
     "output_type": "execute_result"
    }
   ],
   "source": [
    "imputation"
   ]
  },
  {
   "cell_type": "code",
   "execution_count": 275,
   "id": "5f2f0e98-7128-4bdb-a33e-6c11feaa57eb",
   "metadata": {},
   "outputs": [],
   "source": [
    "imputation = pd.get_dummies(clean_data).astype(int)"
   ]
  },
  {
   "cell_type": "code",
   "execution_count": 277,
   "id": "f766b9d7-87ab-4c4c-8ef4-aa37e99bca6d",
   "metadata": {},
   "outputs": [
    {
     "data": {
      "text/html": [
       "<div>\n",
       "<style scoped>\n",
       "    .dataframe tbody tr th:only-of-type {\n",
       "        vertical-align: middle;\n",
       "    }\n",
       "\n",
       "    .dataframe tbody tr th {\n",
       "        vertical-align: top;\n",
       "    }\n",
       "\n",
       "    .dataframe thead th {\n",
       "        text-align: right;\n",
       "    }\n",
       "</style>\n",
       "<table border=\"1\" class=\"dataframe\">\n",
       "  <thead>\n",
       "    <tr style=\"text-align: right;\">\n",
       "      <th></th>\n",
       "      <th>Age</th>\n",
       "      <th>Salary</th>\n",
       "      <th>Exp</th>\n",
       "      <th>Name_Jane</th>\n",
       "      <th>Name_Kim</th>\n",
       "      <th>Name_Mike</th>\n",
       "      <th>Name_Teddy</th>\n",
       "      <th>Name_Umar</th>\n",
       "      <th>Name_Uttam</th>\n",
       "      <th>Domain_Analytics</th>\n",
       "      <th>Domain_Dataanalyst</th>\n",
       "      <th>Domain_Datascience</th>\n",
       "      <th>Domain_NLP</th>\n",
       "      <th>Domain_Statistics</th>\n",
       "      <th>Domain_Testing</th>\n",
       "      <th>Location_Bangalore</th>\n",
       "      <th>Location_Delhi</th>\n",
       "      <th>Location_Hyderbad</th>\n",
       "      <th>Location_Mumbai</th>\n",
       "    </tr>\n",
       "  </thead>\n",
       "  <tbody>\n",
       "    <tr>\n",
       "      <th>0</th>\n",
       "      <td>34</td>\n",
       "      <td>5000</td>\n",
       "      <td>2</td>\n",
       "      <td>0</td>\n",
       "      <td>0</td>\n",
       "      <td>1</td>\n",
       "      <td>0</td>\n",
       "      <td>0</td>\n",
       "      <td>0</td>\n",
       "      <td>0</td>\n",
       "      <td>0</td>\n",
       "      <td>1</td>\n",
       "      <td>0</td>\n",
       "      <td>0</td>\n",
       "      <td>0</td>\n",
       "      <td>0</td>\n",
       "      <td>0</td>\n",
       "      <td>0</td>\n",
       "      <td>1</td>\n",
       "    </tr>\n",
       "    <tr>\n",
       "      <th>1</th>\n",
       "      <td>45</td>\n",
       "      <td>10000</td>\n",
       "      <td>3</td>\n",
       "      <td>0</td>\n",
       "      <td>0</td>\n",
       "      <td>0</td>\n",
       "      <td>1</td>\n",
       "      <td>0</td>\n",
       "      <td>0</td>\n",
       "      <td>0</td>\n",
       "      <td>0</td>\n",
       "      <td>0</td>\n",
       "      <td>0</td>\n",
       "      <td>0</td>\n",
       "      <td>1</td>\n",
       "      <td>1</td>\n",
       "      <td>0</td>\n",
       "      <td>0</td>\n",
       "      <td>0</td>\n",
       "    </tr>\n",
       "    <tr>\n",
       "      <th>2</th>\n",
       "      <td>50</td>\n",
       "      <td>15000</td>\n",
       "      <td>4</td>\n",
       "      <td>0</td>\n",
       "      <td>0</td>\n",
       "      <td>0</td>\n",
       "      <td>0</td>\n",
       "      <td>1</td>\n",
       "      <td>0</td>\n",
       "      <td>0</td>\n",
       "      <td>1</td>\n",
       "      <td>0</td>\n",
       "      <td>0</td>\n",
       "      <td>0</td>\n",
       "      <td>0</td>\n",
       "      <td>1</td>\n",
       "      <td>0</td>\n",
       "      <td>0</td>\n",
       "      <td>0</td>\n",
       "    </tr>\n",
       "    <tr>\n",
       "      <th>3</th>\n",
       "      <td>50</td>\n",
       "      <td>20000</td>\n",
       "      <td>4</td>\n",
       "      <td>1</td>\n",
       "      <td>0</td>\n",
       "      <td>0</td>\n",
       "      <td>0</td>\n",
       "      <td>0</td>\n",
       "      <td>0</td>\n",
       "      <td>1</td>\n",
       "      <td>0</td>\n",
       "      <td>0</td>\n",
       "      <td>0</td>\n",
       "      <td>0</td>\n",
       "      <td>0</td>\n",
       "      <td>0</td>\n",
       "      <td>0</td>\n",
       "      <td>1</td>\n",
       "      <td>0</td>\n",
       "    </tr>\n",
       "    <tr>\n",
       "      <th>4</th>\n",
       "      <td>67</td>\n",
       "      <td>30000</td>\n",
       "      <td>5</td>\n",
       "      <td>0</td>\n",
       "      <td>0</td>\n",
       "      <td>0</td>\n",
       "      <td>0</td>\n",
       "      <td>0</td>\n",
       "      <td>1</td>\n",
       "      <td>0</td>\n",
       "      <td>0</td>\n",
       "      <td>0</td>\n",
       "      <td>0</td>\n",
       "      <td>1</td>\n",
       "      <td>0</td>\n",
       "      <td>1</td>\n",
       "      <td>0</td>\n",
       "      <td>0</td>\n",
       "      <td>0</td>\n",
       "    </tr>\n",
       "    <tr>\n",
       "      <th>5</th>\n",
       "      <td>55</td>\n",
       "      <td>60000</td>\n",
       "      <td>10</td>\n",
       "      <td>0</td>\n",
       "      <td>1</td>\n",
       "      <td>0</td>\n",
       "      <td>0</td>\n",
       "      <td>0</td>\n",
       "      <td>0</td>\n",
       "      <td>0</td>\n",
       "      <td>0</td>\n",
       "      <td>0</td>\n",
       "      <td>1</td>\n",
       "      <td>0</td>\n",
       "      <td>0</td>\n",
       "      <td>0</td>\n",
       "      <td>1</td>\n",
       "      <td>0</td>\n",
       "      <td>0</td>\n",
       "    </tr>\n",
       "  </tbody>\n",
       "</table>\n",
       "</div>"
      ],
      "text/plain": [
       "   Age  Salary  Exp  Name_Jane  Name_Kim  Name_Mike  Name_Teddy  Name_Umar  \\\n",
       "0   34    5000    2          0         0          1           0          0   \n",
       "1   45   10000    3          0         0          0           1          0   \n",
       "2   50   15000    4          0         0          0           0          1   \n",
       "3   50   20000    4          1         0          0           0          0   \n",
       "4   67   30000    5          0         0          0           0          0   \n",
       "5   55   60000   10          0         1          0           0          0   \n",
       "\n",
       "   Name_Uttam  Domain_Analytics  Domain_Dataanalyst  Domain_Datascience  \\\n",
       "0           0                 0                   0                   1   \n",
       "1           0                 0                   0                   0   \n",
       "2           0                 0                   1                   0   \n",
       "3           0                 1                   0                   0   \n",
       "4           1                 0                   0                   0   \n",
       "5           0                 0                   0                   0   \n",
       "\n",
       "   Domain_NLP  Domain_Statistics  Domain_Testing  Location_Bangalore  \\\n",
       "0           0                  0               0                   0   \n",
       "1           0                  0               1                   1   \n",
       "2           0                  0               0                   1   \n",
       "3           0                  0               0                   0   \n",
       "4           0                  1               0                   1   \n",
       "5           1                  0               0                   0   \n",
       "\n",
       "   Location_Delhi  Location_Hyderbad  Location_Mumbai  \n",
       "0               0                  0                1  \n",
       "1               0                  0                0  \n",
       "2               0                  0                0  \n",
       "3               0                  1                0  \n",
       "4               0                  0                0  \n",
       "5               1                  0                0  "
      ]
     },
     "execution_count": 277,
     "metadata": {},
     "output_type": "execute_result"
    }
   ],
   "source": [
    "imputation"
   ]
  }
 ],
 "metadata": {
  "kernelspec": {
   "display_name": "Python 3 (ipykernel)",
   "language": "python",
   "name": "python3"
  },
  "language_info": {
   "codemirror_mode": {
    "name": "ipython",
    "version": 3
   },
   "file_extension": ".py",
   "mimetype": "text/x-python",
   "name": "python",
   "nbconvert_exporter": "python",
   "pygments_lexer": "ipython3",
   "version": "3.11.7"
  },
  "widgets": {
   "application/vnd.jupyter.widget-state+json": {
    "state": {},
    "version_major": 2,
    "version_minor": 0
   }
  }
 },
 "nbformat": 4,
 "nbformat_minor": 5
}
